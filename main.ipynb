{
 "cells": [
  {
   "attachments": {},
   "cell_type": "markdown",
   "metadata": {},
   "source": [
    "Lib"
   ]
  },
  {
   "cell_type": "code",
   "execution_count": null,
   "metadata": {},
   "outputs": [],
   "source": [
    "import requests\n",
    "from bs4 import BeautifulSoup\n",
    "import re\n",
    "import time\n"
   ]
  },
  {
   "attachments": {},
   "cell_type": "markdown",
   "metadata": {},
   "source": [
    "Main code"
   ]
  },
  {
   "cell_type": "code",
   "execution_count": 2,
   "metadata": {},
   "outputs": [
    {
     "name": "stdout",
     "output_type": "stream",
     "text": [
      "[73766.0, 72.95] [7113868.0, 72.19]\n",
      "[73766.0, 72.93] [7113866.0, 72.58]\n"
     ]
    }
   ],
   "source": [
    "\n",
    "\n",
    "item = 'Danger Zone Case'\n",
    "nameid = '176024744'\n",
    "send = True\n",
    "while True:\n",
    "    if send:\n",
    "        url = f'https://steamcommunity.com/market/itemordershistogram?country=RU&language=english&currency=5&item_nameid={nameid}&two_factor=0'\n",
    "        header = {\n",
    "            'Referer': 'https://steamcommunity.com/market/listings/730/{item}',\n",
    "            'User-Agent': 'Mozilla/5.0 (Macintosh; Intel Mac OS X 10_9_3) AppleWebKit/537.36 (KHTML, like Gecko) Chrome/35.0.1916.47 Safari/537.36'\n",
    "        }\n",
    "        responce = requests.get(url, headers=header)\n",
    "\n",
    "        data = responce.json()\n",
    "\n",
    "        lowprice = data['lowest_sell_order']\n",
    "        pricebuy = data['sell_order_summary'].replace(',' ,'.')\n",
    "        s = [float(s) for s in re.findall(r'-?\\d+\\.?\\d*', pricebuy)]\n",
    "\n",
    "        pricesold = data['buy_order_summary'].replace(',' ,'.')\n",
    "        t = [float(t) for t in re.findall(r'-?\\d+\\.?\\d*', pricesold)]\n",
    "        print(s,t)\n",
    "\n",
    "        send = True\n",
    "        \n",
    "        \n",
    "\n",
    "# if data and 'success' in data and data['success'] and 'sell_order_summary' in data:\n",
    "#     price = data['sell_order_summary'].replace('$', '').replace(',', '.')\n",
    "#     print(price)"
   ]
  },
  {
   "cell_type": "code",
   "execution_count": null,
   "metadata": {},
   "outputs": [],
   "source": []
  }
 ],
 "metadata": {
  "kernelspec": {
   "display_name": "Python 3",
   "language": "python",
   "name": "python3"
  },
  "language_info": {
   "codemirror_mode": {
    "name": "ipython",
    "version": 3
   },
   "file_extension": ".py",
   "mimetype": "text/x-python",
   "name": "python",
   "nbconvert_exporter": "python",
   "pygments_lexer": "ipython3",
   "version": "3.10.6"
  },
  "orig_nbformat": 4,
  "vscode": {
   "interpreter": {
    "hash": "916dbcbb3f70747c44a77c7bcd40155683ae19c65e1c03b4aa3499c5328201f1"
   }
  }
 },
 "nbformat": 4,
 "nbformat_minor": 2
}
